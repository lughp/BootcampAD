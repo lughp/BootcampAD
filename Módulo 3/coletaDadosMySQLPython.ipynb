{
 "cells": [
  {
   "cell_type": "markdown",
   "metadata": {},
   "source": [
    "# Coleta de Dados no MySQL utilizando o Python"
   ]
  },
  {
   "cell_type": "markdown",
   "metadata": {},
   "source": [
    "### Para mais detalhes sobre o pacote mysql.connector consulte:"
   ]
  },
  {
   "cell_type": "markdown",
   "metadata": {},
   "source": [
    "* https://www.w3schools.com/python/python_mysql_getstarted.asp"
   ]
  },
  {
   "cell_type": "code",
   "execution_count": 22,
   "metadata": {},
   "outputs": [],
   "source": [
    "#Importar pacote de conexão mysql\n",
    "import mysql.connector"
   ]
  },
  {
   "cell_type": "markdown",
   "metadata": {},
   "source": [
    "Para instalação do pacote, execute o comando abaixo no prompt do Anaconda:\n",
    "\n",
    "* conda install -c anaconda mysql-connector-python\n"
   ]
  },
  {
   "cell_type": "markdown",
   "metadata": {},
   "source": [
    "#### Conectar ao MySQL Server sem selecionar um banco de dados"
   ]
  },
  {
   "cell_type": "code",
   "execution_count": 15,
   "metadata": {},
   "outputs": [
    {
     "name": "stdout",
     "output_type": "stream",
     "text": [
      "<mysql.connector.connection.MySQLConnection object at 0x000001B328FCB088>\n",
      "('bootcamp',)\n",
      "('information_schema',)\n",
      "('mysql',)\n",
      "('performance_schema',)\n",
      "('sakila',)\n",
      "('sys',)\n",
      "('world',)\n"
     ]
    }
   ],
   "source": [
    "mydb = mysql.connector.connect(\n",
    "    host = 'localhost',\n",
    "    user = 'root',\n",
    "    password = 'root'\n",
    ")\n",
    "\n",
    "print(mydb)\n",
    "\n",
    "mycursor = mydb.cursor()\n",
    "\n",
    "mycursor.execute(\"SHOW DATABASES\")\n",
    "\n",
    "for db in mycursor:\n",
    "    print(db)"
   ]
  },
  {
   "cell_type": "markdown",
   "metadata": {},
   "source": [
    "#### Para criar um banco de dados use o comando abaixo"
   ]
  },
  {
   "cell_type": "code",
   "execution_count": null,
   "metadata": {},
   "outputs": [],
   "source": [
    "mycursor.execute(\"CREATE DATABASE mydatabase\")"
   ]
  },
  {
   "cell_type": "markdown",
   "metadata": {},
   "source": [
    "#### Conectar ao MySQL Server selecionando um banco de dados"
   ]
  },
  {
   "cell_type": "code",
   "execution_count": 23,
   "metadata": {},
   "outputs": [
    {
     "name": "stdout",
     "output_type": "stream",
     "text": [
      "<mysql.connector.connection.MySQLConnection object at 0x000001B328FD1E88>\n"
     ]
    }
   ],
   "source": [
    "mydb = mysql.connector.connect(\n",
    "    host = 'localhost',\n",
    "    user = 'root',\n",
    "    password = 'root',\n",
    "    database = 'bootcamp'\n",
    ")\n",
    "\n",
    "print(mydb)\n",
    "\n",
    "mycursor = mydb.cursor()"
   ]
  },
  {
   "cell_type": "markdown",
   "metadata": {},
   "source": [
    "#### Exibir tabelas na base de dados"
   ]
  },
  {
   "cell_type": "code",
   "execution_count": 24,
   "metadata": {},
   "outputs": [
    {
     "name": "stdout",
     "output_type": "stream",
     "text": [
      "('caracteristicageralimovel',)\n",
      "('caracteristicaimovel',)\n",
      "('caracteristicasgerais',)\n",
      "('cidade',)\n",
      "('estado',)\n",
      "('imovel',)\n",
      "('tipounidade',)\n"
     ]
    }
   ],
   "source": [
    "mycursor.execute(\"SHOW TABLES\")\n",
    "\n",
    "for db in mycursor:\n",
    "    print(db)"
   ]
  },
  {
   "cell_type": "markdown",
   "metadata": {},
   "source": [
    "#### Criar uma tabela"
   ]
  },
  {
   "cell_type": "code",
   "execution_count": 5,
   "metadata": {},
   "outputs": [],
   "source": [
    "mycursor.execute(\"CREATE TABLE caracteristicageralimovel (\\\n",
    "    idCaracteristicasImovel int NOT NULL AUTO_INCREMENT, \\\n",
    "    idcaracteriticasGerais int NOT NULL, \\\n",
    "    idImovel int NOT NULL, \\\n",
    "    PRIMARY KEY (idCaracteristicasImovel), \\\n",
    "    KEY fk_caracteriticasGerais_has_Imovel_Imovel1_idx (idImovel), \\\n",
    "    KEY fk_caracteriticasGerais_has_Imovel_caracteristicasGerais1_idx (idcaracteriticasGerais), \\\n",
    "    CONSTRAINT fk_caracteriticasGerais_has_Imovel_caracteristicasGerais1 FOREIGN KEY (idcaracteriticasGerais)\\\n",
    "                    REFERENCES caracteristicasgerais (idcaracteristicasGerais),\\\n",
    "    CONSTRAINT fk_caracteriticasGerais_has_Imovel_Imovel1_idx FOREIGN KEY (idImovel)\\\n",
    "                    REFERENCES imovel (idImovel)\\\n",
    ")\")"
   ]
  },
  {
   "cell_type": "markdown",
   "metadata": {},
   "source": [
    "#### Verificar tabela construída"
   ]
  },
  {
   "cell_type": "code",
   "execution_count": 25,
   "metadata": {},
   "outputs": [
    {
     "name": "stdout",
     "output_type": "stream",
     "text": [
      "('caracteristicageralimovel',)\n",
      "('caracteristicaimovel',)\n",
      "('caracteristicasgerais',)\n",
      "('cidade',)\n",
      "('estado',)\n",
      "('imovel',)\n",
      "('tipounidade',)\n"
     ]
    }
   ],
   "source": [
    "mycursor.execute(\"SHOW TABLES\")\n",
    "\n",
    "for db in mycursor:\n",
    "    print(db)"
   ]
  },
  {
   "cell_type": "markdown",
   "metadata": {},
   "source": [
    "#### Inserir registro em tabela"
   ]
  },
  {
   "cell_type": "code",
   "execution_count": 7,
   "metadata": {},
   "outputs": [
    {
     "name": "stdout",
     "output_type": "stream",
     "text": [
      "1 registro(s) inserido(s).\n"
     ]
    }
   ],
   "source": [
    "query = \"INSERT INTO caracteristicasgerais (idcaracteristicasGerais, dsccaracteristicasGerais) VALUES (%s, %s)\"\n",
    "values = (1, \"Portaria 24 horas\")\n",
    "mycursor.execute(query, values)\n",
    "\n",
    "mydb.commit()\n",
    "\n",
    "print(mycursor.rowcount, \"registro(s) inserido(s).\")"
   ]
  },
  {
   "cell_type": "markdown",
   "metadata": {},
   "source": [
    "#### Inserindo múltiplos valores"
   ]
  },
  {
   "cell_type": "code",
   "execution_count": 9,
   "metadata": {},
   "outputs": [
    {
     "name": "stdout",
     "output_type": "stream",
     "text": [
      "2 registro(s) inserido(s).\n"
     ]
    }
   ],
   "source": [
    "values = [(2, \"Elevador\"), (3, \"Piscina\")]\n",
    "mycursor.executemany(query, values)\n",
    "\n",
    "mydb.commit()\n",
    "\n",
    "print(mycursor.rowcount, \"registro(s) inserido(s).\")"
   ]
  },
  {
   "cell_type": "markdown",
   "metadata": {},
   "source": [
    "#### Consultar toda a tabela"
   ]
  },
  {
   "cell_type": "code",
   "execution_count": 19,
   "metadata": {},
   "outputs": [
    {
     "name": "stdout",
     "output_type": "stream",
     "text": [
      "(1, 'Portaria 24 horas')\n",
      "(2, 'Elevador')\n",
      "(3, 'Piscina')\n",
      "(4, 'Salão de festas')\n",
      "(5, 'Área gourmet')\n",
      "(6, 'Água individual')\n",
      "(7, 'Gás canalizado')\n",
      "(8, 'Aquecimento solar')\n",
      "(9, 'Vaga coberta')\n",
      "(10, 'Vaga livre')\n",
      "(11, 'Armários na cozinha')\n",
      "(12, 'Closet')\n",
      "(13, 'Armários no quarto')\n"
     ]
    }
   ],
   "source": [
    "mycursor.execute(\"SELECT * FROM caracteristicasgerais\")\n",
    "\n",
    "myresult = mycursor.fetchall()\n",
    "\n",
    "for mydata in myresult:\n",
    "    print(mydata)"
   ]
  },
  {
   "cell_type": "markdown",
   "metadata": {},
   "source": [
    "#### Consultar um registro"
   ]
  },
  {
   "cell_type": "code",
   "execution_count": 20,
   "metadata": {},
   "outputs": [
    {
     "name": "stdout",
     "output_type": "stream",
     "text": [
      "(1, 'Portaria 24 horas')\n"
     ]
    }
   ],
   "source": [
    "mycursor.execute(\"SELECT idcaracteristicasGerais, dsccaracteristicasGerais FROM caracteristicasgerais\")\n",
    "\n",
    "myresult = mycursor.fetchone()\n",
    "\n",
    "print(myresult)"
   ]
  },
  {
   "cell_type": "markdown",
   "metadata": {},
   "source": [
    "#### Importação de arquivo CSV"
   ]
  },
  {
   "cell_type": "code",
   "execution_count": null,
   "metadata": {},
   "outputs": [],
   "source": [
    "import csv\n",
    "\n",
    "#Leitura de arquivo sem utilizar biblioteca Pandas\n",
    "\n",
    "filename = 'C:/Users/luciano/IGTI/dados/cidades.csv'\n",
    "\n",
    "with open (filename, 'r') as incsvfile:\n",
    "    reader = csv.reader(incsvfile, delimiter = ',')\n",
    "    next(reader, None) #skip the headers\n",
    "    for line in reader:\n",
    "        #print(line)\n",
    "        #print(line[1])\n",
    "        mycursor.execute (\"INSERT INTO cidade (CodigoCompletoIBGE, CodigoCidadeIBGE, NomeCidade, CodEstadoIBGE) \\\n",
    "                    VALUES (%s, %s, %s, %s)\", line)\n",
    "\n",
    "mydb.commit()\n",
    "\n",
    "print(mycursor.rowcount, \"registro(s) inserido(s).\")\n",
    "\n",
    "incsvfile.close()"
   ]
  },
  {
   "cell_type": "markdown",
   "metadata": {},
   "source": [
    "#### Consultar quantidade de itens inseridos"
   ]
  },
  {
   "cell_type": "code",
   "execution_count": 26,
   "metadata": {},
   "outputs": [
    {
     "name": "stdout",
     "output_type": "stream",
     "text": [
      "(5570,)\n"
     ]
    }
   ],
   "source": [
    "mycursor.execute(\"SELECT count(*) FROM cidade\")\n",
    "\n",
    "myresult = mycursor.fetchone()\n",
    "\n",
    "print(myresult)"
   ]
  },
  {
   "cell_type": "markdown",
   "metadata": {},
   "source": [
    "#### Importação de arquivo CSV (outra forma)"
   ]
  },
  {
   "cell_type": "code",
   "execution_count": null,
   "metadata": {},
   "outputs": [],
   "source": [
    "import csv\n",
    "\n",
    "#Leitura de arquivo\n",
    "csv_data = csv.reader('C:/Users/luciano/IGTI/dados/cidades.csv')\n",
    "csv_data\n",
    "\n",
    "for row in csv_data:\n",
    "    i = 0\n",
    "    print(row)\n",
    "    if i > 3:\n",
    "        break\n",
    "        \n",
    "#for row in csv_data:\n",
    "#    mycursor.execute (\"INSERT INTO cidade (CodigoCompletoIBGE, CodigoCidadeIBGE, NomeCidade, CodEstadoIBGE) \\\n",
    "#                    VALUES (%s, %s, %s, %s)\", row)"
   ]
  }
 ],
 "metadata": {
  "kernelspec": {
   "display_name": "Python 3",
   "language": "python",
   "name": "python3"
  },
  "language_info": {
   "codemirror_mode": {
    "name": "ipython",
    "version": 3
   },
   "file_extension": ".py",
   "mimetype": "text/x-python",
   "name": "python",
   "nbconvert_exporter": "python",
   "pygments_lexer": "ipython3",
   "version": "3.7.6"
  }
 },
 "nbformat": 4,
 "nbformat_minor": 4
}
