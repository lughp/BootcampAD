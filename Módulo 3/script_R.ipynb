{
 "cells": [
  {
   "cell_type": "code",
   "execution_count": 1,
   "metadata": {},
   "outputs": [
    {
     "name": "stdout",
     "output_type": "stream",
     "text": [
      "[1] \"Olá, Mundo!\"\n"
     ]
    }
   ],
   "source": [
    "print('Olá, Mundo!')"
   ]
  },
  {
   "cell_type": "code",
   "execution_count": 2,
   "metadata": {},
   "outputs": [
    {
     "name": "stdout",
     "output_type": "stream",
     "text": [
      "[1] \"Olá, Mundo!\"\n"
     ]
    }
   ],
   "source": [
    "#Método\n",
    "hello <- function(){\n",
    "    print('Olá, Mundo!')\n",
    "}\n",
    "\n",
    "#Corpo principal\n",
    "hello()"
   ]
  },
  {
   "cell_type": "code",
   "execution_count": 4,
   "metadata": {},
   "outputs": [
    {
     "name": "stdout",
     "output_type": "stream",
     "text": [
      "[1] \"Olá, Mundo! O valor de Pi é: 3.14159265358979\"\n",
      "[1] \"Olá, Mundo! O valor de Pi é: 3.14159265358979\"\n",
      "[1] \"Olá, Mundo! O valor de Pi é: -> 3.14159265358979\"\n"
     ]
    }
   ],
   "source": [
    "#get_pi\n",
    "get_pi <- function(){\n",
    "    return(pi)\n",
    "}\n",
    "\n",
    "#metodo hello()\n",
    "    hello <- function(msg){\n",
    "    mensagem = paste(\"Olá, Mundo! O valor de Pi é:\",msg)\n",
    "    print(mensagem)\n",
    "    mensagem = paste(\"Olá, Mundo! O valor de Pi é:\",msg,sep=\"\")\n",
    "    print(mensagem)\n",
    "    mensagem = paste(\"Olá, Mundo! O valor de Pi é:\",msg,sep=\" -> \")\n",
    "    print(mensagem)\n",
    "}\n",
    "\n",
    "#início do programa principal\n",
    "msg <- toString(get_pi())\n",
    "\n",
    "hello(msg)"
   ]
  },
  {
   "cell_type": "code",
   "execution_count": null,
   "metadata": {},
   "outputs": [],
   "source": []
  }
 ],
 "metadata": {
  "kernelspec": {
   "display_name": "R",
   "language": "R",
   "name": "ir"
  },
  "language_info": {
   "codemirror_mode": "r",
   "file_extension": ".r",
   "mimetype": "text/x-r-source",
   "name": "R",
   "pygments_lexer": "r",
   "version": "3.6.1"
  }
 },
 "nbformat": 4,
 "nbformat_minor": 4
}
