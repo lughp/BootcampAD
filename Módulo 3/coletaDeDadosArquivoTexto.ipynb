{
 "cells": [
  {
   "cell_type": "markdown",
   "metadata": {},
   "source": [
    "# Coleta de Dados em Arquivo Texto (txt)"
   ]
  },
  {
   "cell_type": "markdown",
   "metadata": {},
   "source": [
    "## 1º Importar bibliotecas"
   ]
  },
  {
   "cell_type": "code",
   "execution_count": 28,
   "metadata": {},
   "outputs": [],
   "source": [
    "import os\n",
    "from datetime import datetime"
   ]
  },
  {
   "cell_type": "markdown",
   "metadata": {},
   "source": [
    "## 2º Definir métodos"
   ]
  },
  {
   "cell_type": "code",
   "execution_count": 29,
   "metadata": {},
   "outputs": [],
   "source": [
    "# Classe para formatar a função print()\n",
    "class color:\n",
    "    PURPLE = '\\033[95m'\n",
    "    CYAN = '\\033[96m'\n",
    "    DARKCYAN = '\\033[36m'\n",
    "    BLUE = '\\033[94m'\n",
    "    GREEN = '\\033[92m'\n",
    "    YELLOW = '\\033[93m'\n",
    "    RED = '\\033[91m'\n",
    "    ORANGE = '\\033[33m'\n",
    "    BOLD = '\\033[1m'\n",
    "    UNDERLINE = '\\033[4m'\n",
    "    END = '\\033[0m'"
   ]
  },
  {
   "cell_type": "code",
   "execution_count": 30,
   "metadata": {},
   "outputs": [],
   "source": [
    "# Função que retorna o diretório de Datasets\n",
    "def setDatasetPath():\n",
    "    return 'C:\\\\Users\\\\luciano\\\\IGTI\\\\dados'"
   ]
  },
  {
   "cell_type": "code",
   "execution_count": 31,
   "metadata": {},
   "outputs": [],
   "source": [
    "# Método para Leitura de arquivo (Lê todo o conteúdo de uma vez)\n",
    "def readFileContent(filename):\n",
    "    try:\n",
    "        fileobject = open(filename, \"r\", encoding = 'utf-8')\n",
    "        print(color.BOLD + color.BLUE + '\\nO conteúdo do arquivo ' + filename + ' é:\\n' + color.END)\n",
    "        if fileobject.mode == 'r':\n",
    "            filecontents = fileobject.read()\n",
    "            print(filecontents) #imprime o conteúdo lido\n",
    "        fileobject.close()\n",
    "    except FileNotFoundError:\n",
    "        print(color.BOLD + color.RED + '\\nERRO AO TENTAR LER O ARQUIVO!! \\nO arquivo ' + filename + ' não existe!' + color.END)"
   ]
  },
  {
   "cell_type": "code",
   "execution_count": 32,
   "metadata": {},
   "outputs": [],
   "source": [
    "# Método para Leitura de arquivo (Ler as linhas do arquivo e insere em uma lista)\n",
    "def realFileLines(filename):\n",
    "    #Ler cada linha do arquivo, inserir em uma lista\n",
    "    try:\n",
    "        print(color.BOLD + color.BLUE + '\\nAs linhas do arquivo ' + filename + ' são:\\n' + color.END)\n",
    "        fileobject = open(filename, \"r\", encoding = 'utf-8')\n",
    "        filelines = fileobject.readlines()\n",
    "        \n",
    "        numline = 1 #variável de apoio para controle de número de linha\n",
    "        \n",
    "        #Loop -> para cada linha (line) da lista de linhas filelines\n",
    "        for line in filelines:\n",
    "            print('Linha ' + str(numline) + ': ' + line, end = '') #imprime o valor da linha, end = '' exclui quebra de linha\n",
    "            numline = numline+1\n",
    "        \n",
    "        #Fecha o objeto de leitura do arquivo\n",
    "        fileobject.close()\n",
    "        \n",
    "    except FileNotFoundError:\n",
    "        print(color.BOLD + color.RED + '\\nERRO AO TENTAR LER O ARQUIVO!! \\nO arquivo ' + filename + ' não existe!' + color.END)"
   ]
  },
  {
   "cell_type": "code",
   "execution_count": 33,
   "metadata": {},
   "outputs": [],
   "source": [
    "# Método para alteração de arquivo\n",
    "def appendFile(filename):\n",
    "    \n",
    "    #Abrir o arquivo em modo de alteração (append)\n",
    "    # \"a\" - append - inclui conteúdo ao final do arquivo\n",
    "    # criará um arquivo se o arquivo especificado não existir\n",
    "    \n",
    "    fileobject = open(filename, \"a\", encoding = 'utf-8')\n",
    "    \n",
    "    fileobject.write(\"\\n\") #adiciona uma quebra de linha\n",
    "    \n",
    "    fileobject.write(\"\\nOlá pessoal!\") #adiciona uma linha informando o fim do arquivo\n",
    "    now = datetime.now() #current date and time\n",
    "    date_time = now.strftime(\"%d/%m/%Y, %H:%M:%S\") #busca a data e hora atual\n",
    "    fileobject.write(\"\\n--> Hoje é: \" + str(date_time)) #adiciona uma linha informando que dia é hoje\n",
    "    \n",
    "    fileobject.write(\"\\n\\n\") #adiciona duas quebras de linha\n",
    "    fileobject.write(\"\\nOlá pessoal!\") #adiciona uma linha informando que é o fim do arquivo\n",
    "    fileobject.write(\"\\n--> Hoje é: \" + str(date_time))\n",
    "    \n",
    "    fileobject.close() #fecha o arquivo"
   ]
  },
  {
   "cell_type": "code",
   "execution_count": 34,
   "metadata": {},
   "outputs": [],
   "source": [
    "# Método para escrita de arquivo\n",
    "def writeFile(filename):\n",
    "\n",
    "    #Abrir o arquivo em modo de escrita (write)\n",
    "    # \"w\" - Write - substituirá qualquer conteúdo existente\n",
    "    # criará um arquivo se o arquivo especificado não existir\n",
    "    \n",
    "    fileobject = open(filename, \"w\", encoding = 'utf-8')\n",
    "    fileobject.write(\"Abri o arquivo \" + filename + \" em modo de escrita (w)!\")\n",
    "    \n",
    "    now = datetime.now() #current date and time\n",
    "    date_time = now.strftime(\"%d/%m/%Y, %H:%M:%S\") #busca a data e hora atual\n",
    "    fileobject.write(\"\\n--> Hoje é: \" + str(date_time)) #adiciona uma linha informando que dia é hoje\n",
    "    \n",
    "    fileobject.close() #fecha o arquivo"
   ]
  },
  {
   "cell_type": "code",
   "execution_count": 35,
   "metadata": {},
   "outputs": [],
   "source": [
    "# Método para criação de arquivo\n",
    "def createFile(filename):\n",
    "\n",
    "    #Cria um novo arquivo usando o método open ()\n",
    "    # \"x\" - criará um arquivo, retornará um erro se o arquivo existir\n",
    "    # filename = setDatasetPath() + \"\\escritorCreate1.txt\"\n",
    "    \n",
    "    try:\n",
    "        fileobject = open(filename, \"x\", encoding = 'utf-8')\n",
    "        fileobject.write(\"Este é um novo arquivo criado usando o modo de criação (x).\")\n",
    "        fileobject.close()\n",
    "    except:\n",
    "        print(color.BOLD + color.RED + '\\nERRO AO TENTAR CRIAR O ARQUIVO!! \\nO arquivo ' + filename + ' já existe!' + color.END)"
   ]
  },
  {
   "cell_type": "markdown",
   "metadata": {},
   "source": [
    "## 3º Executa os métodos criados (Main)"
   ]
  },
  {
   "cell_type": "code",
   "execution_count": 36,
   "metadata": {},
   "outputs": [],
   "source": [
    "# Verifica o diretório de trabalho e define o diretório de arquivos\n",
    "datasetPath = setDatasetPath()"
   ]
  },
  {
   "cell_type": "markdown",
   "metadata": {},
   "source": [
    "### Leitura de arquivo TXT"
   ]
  },
  {
   "cell_type": "code",
   "execution_count": 37,
   "metadata": {},
   "outputs": [],
   "source": [
    "#Define arquivo para leitura\n",
    "filename = datasetPath + \"\\\\arquivoTextoRead.txt\""
   ]
  },
  {
   "cell_type": "code",
   "execution_count": 38,
   "metadata": {},
   "outputs": [
    {
     "name": "stdout",
     "output_type": "stream",
     "text": [
      "\u001b[96mSerá lido o seguinte arquivo: \u001b[0mC:\\Users\\luciano\\IGTI\\dados\\arquivoTextoRead.txt\n"
     ]
    }
   ],
   "source": [
    "#Imprimir texto com alinhamento ao centro\n",
    "print(color.CYAN + 'Será lido o seguinte arquivo: ' + color.END + filename)"
   ]
  },
  {
   "cell_type": "code",
   "execution_count": 39,
   "metadata": {},
   "outputs": [
    {
     "name": "stdout",
     "output_type": "stream",
     "text": [
      "\u001b[1m\u001b[94m\n",
      "O conteúdo do arquivo C:\\Users\\luciano\\IGTI\\dados\\arquivoTextoRead.txt é:\n",
      "\u001b[0m\n",
      "The Zen of Python, by Tim Peters\n",
      "Beautiful is better than ugly.\n",
      "Explicit is better than implicit.\n",
      "Simple is better than complex.\n",
      "Complex is better than complicated.\n",
      "Flat is better than nested.\n",
      "Sparse is better than dense.\n",
      "Readability counts.\n",
      "Special cases aren't special enough to break the rules.\n",
      "Although practicality beats purity.\n",
      "Errors should never pass silently.\n",
      "Unless explicitly silenced.\n",
      "In the face of ambiguity, refuse the temptation to guess.\n",
      "There should be one-and spanferably only one --obvious way to do it.\n",
      "Although that way may not be obvious at first unless you're Dutch.\n",
      "Now is better than never.\n",
      "Although never is often better than *right* now.\n",
      "If the implementation is hard to explain, it's a bad idea.\n",
      "If the implementation is easy to explain, it may be a good idea.\n",
      "Namespaces are one honking great idea -let's do more of those!\n"
     ]
    }
   ],
   "source": [
    "#Invoca o método readFileContent(filename)\n",
    "readFileContent(filename)"
   ]
  },
  {
   "cell_type": "code",
   "execution_count": 40,
   "metadata": {},
   "outputs": [
    {
     "name": "stdout",
     "output_type": "stream",
     "text": [
      "\u001b[1m\u001b[94m\n",
      "As linhas do arquivo C:\\Users\\luciano\\IGTI\\dados\\arquivoTextoRead.txt são:\n",
      "\u001b[0m\n",
      "Linha 1: The Zen of Python, by Tim Peters\n",
      "Linha 2: Beautiful is better than ugly.\n",
      "Linha 3: Explicit is better than implicit.\n",
      "Linha 4: Simple is better than complex.\n",
      "Linha 5: Complex is better than complicated.\n",
      "Linha 6: Flat is better than nested.\n",
      "Linha 7: Sparse is better than dense.\n",
      "Linha 8: Readability counts.\n",
      "Linha 9: Special cases aren't special enough to break the rules.\n",
      "Linha 10: Although practicality beats purity.\n",
      "Linha 11: Errors should never pass silently.\n",
      "Linha 12: Unless explicitly silenced.\n",
      "Linha 13: In the face of ambiguity, refuse the temptation to guess.\n",
      "Linha 14: There should be one-and spanferably only one --obvious way to do it.\n",
      "Linha 15: Although that way may not be obvious at first unless you're Dutch.\n",
      "Linha 16: Now is better than never.\n",
      "Linha 17: Although never is often better than *right* now.\n",
      "Linha 18: If the implementation is hard to explain, it's a bad idea.\n",
      "Linha 19: If the implementation is easy to explain, it may be a good idea.\n",
      "Linha 20: Namespaces are one honking great idea -let's do more of those!"
     ]
    }
   ],
   "source": [
    "#Invoca o método realFileLines(filename)\n",
    "realFileLines(filename)"
   ]
  },
  {
   "cell_type": "markdown",
   "metadata": {},
   "source": [
    "### Alteração (append) de arquivo TXT"
   ]
  },
  {
   "cell_type": "code",
   "execution_count": 41,
   "metadata": {},
   "outputs": [
    {
     "name": "stdout",
     "output_type": "stream",
     "text": [
      "\u001b[1m\u001b[92mAppend em um arquivo que já existe!\n",
      "\u001b[0m\n",
      "\u001b[1m\u001b[94m\n",
      "O conteúdo do arquivo C:\\Users\\luciano\\IGTI\\dados\\arquivoTextoAppend1.txt é:\n",
      "\u001b[0m\n",
      "\n",
      "\n",
      "Olá pessoal!\n",
      "--> Hoje é: 24/06/2020, 12:01:40\n",
      "\n",
      "\n",
      "Olá pessoal!\n",
      "--> Hoje é: 24/06/2020, 12:01:40\n",
      "\u001b[1m\u001b[94m\n",
      "O conteúdo do arquivo C:\\Users\\luciano\\IGTI\\dados\\arquivoTextoAppend1.txt é:\n",
      "\u001b[0m\n",
      "\n",
      "\n",
      "Olá pessoal!\n",
      "--> Hoje é: 24/06/2020, 12:01:40\n",
      "\n",
      "\n",
      "Olá pessoal!\n",
      "--> Hoje é: 24/06/2020, 12:01:40\n",
      "\n",
      "Olá pessoal!\n",
      "--> Hoje é: 24/06/2020, 12:21:38\n",
      "\n",
      "\n",
      "Olá pessoal!\n",
      "--> Hoje é: 24/06/2020, 12:21:38\n"
     ]
    }
   ],
   "source": [
    "print(color.BOLD + color.GREEN + 'Append em um arquivo que já existe!\\n' + color.END)\n",
    "#Abrir o arquivo em modo de alteração (append)\n",
    "filename = datasetPath + \"\\\\arquivoTextoAppend1.txt\"\n",
    "#Vamos PRIMEIRO ler o arquivo para conferir o conteúdo\n",
    "readFileContent(filename)\n",
    "#Invoca método appendFile(filename)\n",
    "appendFile(filename)\n",
    "#Vamos AGORA ler o arquivo para conferir o conteúdo após append\n",
    "readFileContent(filename)"
   ]
  },
  {
   "cell_type": "code",
   "execution_count": 42,
   "metadata": {},
   "outputs": [
    {
     "name": "stdout",
     "output_type": "stream",
     "text": [
      "\u001b[1m\u001b[92mAppend em um arquivo que não existe!\n",
      "\u001b[0m\n",
      "\u001b[1m\u001b[94m\n",
      "O conteúdo do arquivo C:\\Users\\luciano\\IGTI\\dados\\arquivoTextoAppend2.txt é:\n",
      "\u001b[0m\n",
      "\n",
      "\n",
      "Olá pessoal!\n",
      "--> Hoje é: 24/06/2020, 12:01:52\n",
      "\n",
      "\n",
      "Olá pessoal!\n",
      "--> Hoje é: 24/06/2020, 12:01:52\n",
      "\u001b[1m\u001b[94m\n",
      "O conteúdo do arquivo C:\\Users\\luciano\\IGTI\\dados\\arquivoTextoAppend2.txt é:\n",
      "\u001b[0m\n",
      "\n",
      "\n",
      "Olá pessoal!\n",
      "--> Hoje é: 24/06/2020, 12:01:52\n",
      "\n",
      "\n",
      "Olá pessoal!\n",
      "--> Hoje é: 24/06/2020, 12:01:52\n",
      "\n",
      "Olá pessoal!\n",
      "--> Hoje é: 24/06/2020, 12:21:42\n",
      "\n",
      "\n",
      "Olá pessoal!\n",
      "--> Hoje é: 24/06/2020, 12:21:42\n"
     ]
    }
   ],
   "source": [
    "print(color.BOLD + color.GREEN + 'Append em um arquivo que não existe!\\n' + color.END)\n",
    "filename = datasetPath + \"\\\\arquivoTextoAppend2.txt\"\n",
    "#Vamos PRIMEIRO ler o arquivo para conferir o conteúdo\n",
    "readFileContent(filename)\n",
    "#Invoca método appendFile(filename)\n",
    "appendFile(filename)\n",
    "#Vamos AGORA ler o arquivo para conferir o conteúdo após append\n",
    "readFileContent(filename)"
   ]
  },
  {
   "cell_type": "markdown",
   "metadata": {},
   "source": [
    "### Escrita (write) de arquivo TXT"
   ]
  },
  {
   "cell_type": "code",
   "execution_count": 43,
   "metadata": {},
   "outputs": [
    {
     "name": "stdout",
     "output_type": "stream",
     "text": [
      "\u001b[1m\u001b[95mEscrever (sobrescrever) um arquivo que já existe!\n",
      "\u001b[0m\n",
      "\u001b[1m\u001b[94m\n",
      "O conteúdo do arquivo C:\\Users\\luciano\\IGTI\\dados\\arquivoTextoWrite1.txt é:\n",
      "\u001b[0m\n",
      "Abri o arquivo C:\\Users\\luciano\\IGTI\\dados\\arquivoTextoWrite1.txt em modo de escrita (w)!\n",
      "--> Hoje é: 24/06/2020, 12:08:46\n",
      "\u001b[1m\u001b[94m\n",
      "O conteúdo do arquivo C:\\Users\\luciano\\IGTI\\dados\\arquivoTextoWrite1.txt é:\n",
      "\u001b[0m\n",
      "Abri o arquivo C:\\Users\\luciano\\IGTI\\dados\\arquivoTextoWrite1.txt em modo de escrita (w)!\n",
      "--> Hoje é: 24/06/2020, 12:21:47\n"
     ]
    }
   ],
   "source": [
    "print(color.BOLD + color.PURPLE + 'Escrever (sobrescrever) um arquivo que já existe!\\n' + color.END)\n",
    "#Abrir o arquivo em modo de escrita (write)\n",
    "filename = datasetPath + \"\\\\arquivoTextoWrite1.txt\"\n",
    "#Vamos PRIMEIRO ler o arquivo para conferir o conteúdo\n",
    "readFileContent(filename)\n",
    "#Invoca método writeFile(filename)\n",
    "writeFile(filename)\n",
    "#Vamos AGORA ler o arquivo para conferir o conteúdo após escrita\n",
    "readFileContent(filename)"
   ]
  },
  {
   "cell_type": "code",
   "execution_count": 44,
   "metadata": {},
   "outputs": [
    {
     "name": "stdout",
     "output_type": "stream",
     "text": [
      "\u001b[1m\u001b[95mEscrever um arquivo que não existe!\n",
      "\u001b[0m\n",
      "\u001b[1m\u001b[94m\n",
      "O conteúdo do arquivo C:\\Users\\luciano\\IGTI\\dados\\arquivoTextoWrite2.txt é:\n",
      "\u001b[0m\n",
      "Abri o arquivo C:\\Users\\luciano\\IGTI\\dados\\arquivoTextoWrite2.txt em modo de escrita (w)!\n",
      "--> Hoje é: 24/06/2020, 12:10:12\n",
      "\u001b[1m\u001b[94m\n",
      "O conteúdo do arquivo C:\\Users\\luciano\\IGTI\\dados\\arquivoTextoWrite2.txt é:\n",
      "\u001b[0m\n",
      "Abri o arquivo C:\\Users\\luciano\\IGTI\\dados\\arquivoTextoWrite2.txt em modo de escrita (w)!\n",
      "--> Hoje é: 24/06/2020, 12:21:51\n"
     ]
    }
   ],
   "source": [
    "print(color.BOLD + color.PURPLE + 'Escrever um arquivo que não existe!\\n' + color.END)\n",
    "filename = datasetPath + \"\\\\arquivoTextoWrite2.txt\"\n",
    "#Vamos PRIMEIRO ler o arquivo para conferir o conteúdo\n",
    "readFileContent(filename)\n",
    "#Invoca método writeFile(filename)\n",
    "writeFile(filename)\n",
    "#Vamos AGORA ler o arquivo para conferir o conteúdo após escrita\n",
    "readFileContent(filename)"
   ]
  },
  {
   "cell_type": "markdown",
   "metadata": {},
   "source": [
    "### Escrita (create) de arquivo TXT"
   ]
  },
  {
   "cell_type": "code",
   "execution_count": 45,
   "metadata": {},
   "outputs": [
    {
     "name": "stdout",
     "output_type": "stream",
     "text": [
      "\u001b[1m\u001b[33mCriar um arquivo que já existe!\n",
      "\u001b[0m\n",
      "\u001b[1m\u001b[91m\n",
      "ERRO AO TENTAR LER O ARQUIVO!! \n",
      "O arquivo C:\\Users\\luciano\\IGTI\\dados\\arquivoTextoCreate1.txt não existe!\u001b[0m\n"
     ]
    }
   ],
   "source": [
    "print(color.BOLD + color.ORANGE + 'Criar um arquivo que já existe!\\n' + color.END)\n",
    "#Cria um novo arquivo usando o método open()\n",
    "filename = datasetPath + \"\\\\arquivoTextoCreate1.txt\"\n",
    "#Vamos PRIMEIRO ler o arquivo para conferir o conteúdo ou ver se ele existe\n",
    "readFileContent(filename)\n",
    "#Invoca método createFile(filename)\n",
    "createFile(filename)"
   ]
  },
  {
   "cell_type": "code",
   "execution_count": 46,
   "metadata": {},
   "outputs": [
    {
     "name": "stdout",
     "output_type": "stream",
     "text": [
      "\u001b[1m\u001b[33mCriar um arquivo que já existe!\n",
      "\u001b[0m\n",
      "\u001b[1m\u001b[91m\n",
      "ERRO AO TENTAR LER O ARQUIVO!! \n",
      "O arquivo C:\\Users\\luciano\\IGTI\\dados\\arquivoTextoCreate2.txt não existe!\u001b[0m\n",
      "\u001b[1m\u001b[94m\n",
      "O conteúdo do arquivo C:\\Users\\luciano\\IGTI\\dados\\arquivoTextoCreate2.txt é:\n",
      "\u001b[0m\n",
      "Este é um novo arquivo criado usando o modo de criação (x).\n"
     ]
    }
   ],
   "source": [
    "print(color.BOLD + color.ORANGE + 'Criar um arquivo que já existe!\\n' + color.END)\n",
    "filename = datasetPath + \"\\\\arquivoTextoCreate2.txt\"\n",
    "#Vamos PRIMEIRO ler o arquivo para conferir o conteúdo ou ver se ele existe\n",
    "readFileContent(filename)\n",
    "createFile(filename)\n",
    "#Vamos AGORA ler o arquivo para conferir o conteúdo após escrita\n",
    "readFileContent(filename)"
   ]
  },
  {
   "cell_type": "markdown",
   "metadata": {},
   "source": [
    "### Listar arquivos de diretório"
   ]
  },
  {
   "cell_type": "code",
   "execution_count": 48,
   "metadata": {},
   "outputs": [
    {
     "name": "stdout",
     "output_type": "stream",
     "text": [
      "O diretório de trabalho é: \n",
      "C:\\Users\\luciano\\OneDrive - unb.br\\Bootcamps\\Analista de Dados\\Módulo 3 - Coleta e obtenção de dados\\PyScripts\\jupyter\n"
     ]
    }
   ],
   "source": [
    "#Ler o diretório de trabalho\n",
    "working_directory = os.getcwd()\n",
    "print('O diretório de trabalho é: \\n' + working_directory)"
   ]
  },
  {
   "cell_type": "code",
   "execution_count": 50,
   "metadata": {},
   "outputs": [
    {
     "name": "stdout",
     "output_type": "stream",
     "text": [
      "\u001b[1mA lista de arquivos e/ou diretórios é: \u001b[0m\n",
      "['arquivoTextoAppend1.txt', 'arquivoTextoAppend2.txt', 'arquivoTextoCreate1.txt', 'arquivoTextoCreate2.txt', 'arquivoTextoRead.txt', 'arquivoTextoWrite1.txt', 'arquivoTextoWrite2.txt']\n"
     ]
    }
   ],
   "source": [
    "#Ler os arquivos de um diretório específico\n",
    "filelist = os.listdir(datasetPath)\n",
    "print(color.BOLD + 'A lista de arquivos e/ou diretórios é: ' + color.END)\n",
    "print(filelist)"
   ]
  },
  {
   "cell_type": "markdown",
   "metadata": {},
   "source": [
    "### Ler o conteúdo de cada arquivo do diretório"
   ]
  },
  {
   "cell_type": "code",
   "execution_count": 54,
   "metadata": {},
   "outputs": [
    {
     "name": "stdout",
     "output_type": "stream",
     "text": [
      "\u001b[1m\n",
      "Lendo conteúdo do arquivo: \u001b[0mC:\\Users\\luciano\\IGTI\\dados\\arquivoTextoAppend1.txt\n",
      "\n",
      "\n",
      "Olá pessoal!\n",
      "--> Hoje é: 24/06/2020, 12:01:40\n",
      "\n",
      "\n",
      "Olá pessoal!\n",
      "--> Hoje é: 24/06/2020, 12:01:40\n",
      "\n",
      "Olá pessoal!\n",
      "--> Hoje é: 24/06/2020, 12:21:38\n",
      "\n",
      "\n",
      "Olá pessoal!\n",
      "--> Hoje é: 24/06/2020, 12:21:38\n",
      "\u001b[1m\n",
      "Lendo conteúdo do arquivo: \u001b[0mC:\\Users\\luciano\\IGTI\\dados\\arquivoTextoAppend2.txt\n",
      "\n",
      "\n",
      "Olá pessoal!\n",
      "--> Hoje é: 24/06/2020, 12:01:52\n",
      "\n",
      "\n",
      "Olá pessoal!\n",
      "--> Hoje é: 24/06/2020, 12:01:52\n",
      "\n",
      "Olá pessoal!\n",
      "--> Hoje é: 24/06/2020, 12:21:42\n",
      "\n",
      "\n",
      "Olá pessoal!\n",
      "--> Hoje é: 24/06/2020, 12:21:42\n",
      "\u001b[1m\n",
      "Lendo conteúdo do arquivo: \u001b[0mC:\\Users\\luciano\\IGTI\\dados\\arquivoTextoCreate1.txt\n",
      "Este é um novo arquivo criado usando o modo de criação (x).\n",
      "\u001b[1m\n",
      "Lendo conteúdo do arquivo: \u001b[0mC:\\Users\\luciano\\IGTI\\dados\\arquivoTextoCreate2.txt\n",
      "Este é um novo arquivo criado usando o modo de criação (x).\n",
      "\u001b[1m\n",
      "Lendo conteúdo do arquivo: \u001b[0mC:\\Users\\luciano\\IGTI\\dados\\arquivoTextoRead.txt\n",
      "The Zen of Python, by Tim Peters\n",
      "Beautiful is better than ugly.\n",
      "Explicit is better than implicit.\n",
      "Simple is better than complex.\n",
      "Complex is better than complicated.\n",
      "Flat is better than nested.\n",
      "Sparse is better than dense.\n",
      "Readability counts.\n",
      "Special cases aren't special enough to break the rules.\n",
      "Although practicality beats purity.\n",
      "Errors should never pass silently.\n",
      "Unless explicitly silenced.\n",
      "In the face of ambiguity, refuse the temptation to guess.\n",
      "There should be one-and spanferably only one --obvious way to do it.\n",
      "Although that way may not be obvious at first unless you're Dutch.\n",
      "Now is better than never.\n",
      "Although never is often better than *right* now.\n",
      "If the implementation is hard to explain, it's a bad idea.\n",
      "If the implementation is easy to explain, it may be a good idea.\n",
      "Namespaces are one honking great idea -let's do more of those!\n",
      "\u001b[1m\n",
      "Lendo conteúdo do arquivo: \u001b[0mC:\\Users\\luciano\\IGTI\\dados\\arquivoTextoWrite1.txt\n",
      "Abri o arquivo C:\\Users\\luciano\\IGTI\\dados\\arquivoTextoWrite1.txt em modo de escrita (w)!\n",
      "--> Hoje é: 24/06/2020, 12:21:47\n",
      "\u001b[1m\n",
      "Lendo conteúdo do arquivo: \u001b[0mC:\\Users\\luciano\\IGTI\\dados\\arquivoTextoWrite2.txt\n",
      "Abri o arquivo C:\\Users\\luciano\\IGTI\\dados\\arquivoTextoWrite2.txt em modo de escrita (w)!\n",
      "--> Hoje é: 24/06/2020, 12:21:51\n"
     ]
    }
   ],
   "source": [
    "#for filename in filelist\n",
    "for filename in os.listdir(datasetPath):\n",
    "    if os.path.isfile(os.path.join(datasetPath, filename)):\n",
    "        fullfilename = datasetPath + '\\\\' + filename\n",
    "        try:\n",
    "            print(color.BOLD + '\\nLendo conteúdo do arquivo: ' + color.END + fullfilename)\n",
    "            fileobject = open(fullfilename, \"r\", encoding = 'utf-8')\n",
    "            if fileobject.mode == 'r':\n",
    "                filecontents = fileobject.read()\n",
    "                print(filecontents) #imprime o conteúdo lido\n",
    "            fileobject.close()\n",
    "        except FileNotFoundError:\n",
    "            print(color.BOLD + color.RED + '\\nERRO: ARQUIVO NÃO EXISTE!! \\n' + color.END)\n",
    "    else:\n",
    "        print(color.BOLD + color.BLUE + '\\n' + filename + ' não é um arquivo!' + color.END)"
   ]
  },
  {
   "cell_type": "markdown",
   "metadata": {},
   "source": [
    "### Remover todos os arquivos de um diretório"
   ]
  },
  {
   "cell_type": "code",
   "execution_count": 55,
   "metadata": {},
   "outputs": [
    {
     "name": "stdout",
     "output_type": "stream",
     "text": [
      "Lista de arquivos: \n",
      "['arquivoTextoAppend1.txt', 'arquivoTextoAppend2.txt', 'arquivoTextoCreate1.txt', 'arquivoTextoCreate2.txt', 'arquivoTextoRead.txt', 'arquivoTextoWrite1.txt', 'arquivoTextoWrite2.txt']\n",
      "\n",
      "Lista de arquivos após a exclusão: \n",
      "[]\n"
     ]
    }
   ],
   "source": [
    "folder = 'C:\\\\Users\\\\luciano\\\\IGTI\\\\target'\n",
    "\n",
    "filelist = os.listdir(folder)\n",
    "print('Lista de arquivos: ', sep = \"\")\n",
    "print(filelist)\n",
    "\n",
    "for filename in os.listdir(folder):\n",
    "    try:\n",
    "        if os.path.isfile(os.path.join(folder, filename)):\n",
    "            filepath = os.path.join(folder, filename)\n",
    "            os.unlink(filepath)\n",
    "        #elif os.path.isdir(filepath):\n",
    "            #shutil.rmtree(filepath)\n",
    "    except Exception as e:\n",
    "        print('Falha ao excluir %s. \\nRazão da falha: %s' % (filepath, e))\n",
    "\n",
    "filelist = os.listdir(folder)\n",
    "print('\\nLista de arquivos após a exclusão: ', sep = \"\")\n",
    "print(filelist)"
   ]
  },
  {
   "cell_type": "markdown",
   "metadata": {},
   "source": [
    "### Movendo arquivo de um diretório para outro"
   ]
  },
  {
   "cell_type": "code",
   "execution_count": 58,
   "metadata": {},
   "outputs": [
    {
     "name": "stdout",
     "output_type": "stream",
     "text": [
      "Arquivos na origem: \n",
      "['arquivoTextoAppend1.txt', 'arquivoTextoAppend2.txt', 'arquivoTextoCreate1.txt', 'arquivoTextoCreate2.txt', 'arquivoTextoRead.txt', 'arquivoTextoWrite1.txt', 'arquivoTextoWrite2.txt']\n",
      "Arquivos no destino: \n",
      "[]\n",
      "\n",
      "Arquivos na origem após mover: \n",
      "[]\n",
      "\n",
      "Arquivos no destino após mover: \n",
      "['arquivoTextoAppend1.txt', 'arquivoTextoAppend2.txt', 'arquivoTextoCreate1.txt', 'arquivoTextoCreate2.txt', 'arquivoTextoRead.txt', 'arquivoTextoWrite1.txt', 'arquivoTextoWrite2.txt']\n"
     ]
    }
   ],
   "source": [
    "import shutil\n",
    "#import os\n",
    "\n",
    "folderSource = 'C:\\\\Users\\\\luciano\\\\IGTI\\\\source'\n",
    "folderTarget = 'C:\\\\Users\\\\luciano\\\\IGTI\\\\target'\n",
    "\n",
    "sourceList = os.listdir(folderSource)\n",
    "targetList = os.listdir(folderTarget)\n",
    "\n",
    "print('Arquivos na origem: ', sep = \"\")\n",
    "print(sourceList)\n",
    "print('Arquivos no destino: ', sep = \"\")\n",
    "print(targetList)\n",
    "\n",
    "# Mover a pasta source para dentro da pasta target\n",
    "#shutil.move(folderSource, folderTarget)\n",
    "\n",
    "for filename in sourceList:\n",
    "    try:\n",
    "        #print(filename)\n",
    "        if os.path.isfile(os.path.join(folderSource, filename)):\n",
    "            filepath = os.path.join(folderSource, filename)\n",
    "            shutil.move(filepath, folderTarget) #move o arquivo para a pasta target\n",
    "    except Exception as e:\n",
    "        print('Falha ao mover %s. \\nRazão da falha: %s' % (filepath, e))\n",
    "        \n",
    "sourceList = os.listdir(folderSource)\n",
    "targetList = os.listdir(folderTarget)\n",
    "\n",
    "print('\\nArquivos na origem após mover: ', sep = \"\")\n",
    "print(sourceList)\n",
    "print('\\nArquivos no destino após mover: ', sep = \"\")\n",
    "print(targetList)"
   ]
  },
  {
   "cell_type": "markdown",
   "metadata": {},
   "source": [
    "### Copiando arquivo de um diretório para outro"
   ]
  },
  {
   "cell_type": "code",
   "execution_count": 60,
   "metadata": {},
   "outputs": [
    {
     "name": "stdout",
     "output_type": "stream",
     "text": [
      "\n",
      "Arquivos na origem após cópia: \n",
      "['arquivoTextoAppend1.txt', 'arquivoTextoAppend2.txt', 'arquivoTextoCreate1.txt', 'arquivoTextoCreate2.txt', 'arquivoTextoRead.txt', 'arquivoTextoWrite1.txt', 'arquivoTextoWrite2.txt']\n",
      "\n",
      "Arquivos no destino após cópia: \n",
      "['arquivoTextoAppend1.txt', 'arquivoTextoAppend2.txt', 'arquivoTextoCreate1.txt', 'arquivoTextoCreate2.txt', 'arquivoTextoRead.txt', 'arquivoTextoWrite1.txt', 'arquivoTextoWrite2.txt']\n"
     ]
    }
   ],
   "source": [
    "sourceList = os.listdir(folderSource)\n",
    "targetList = os.listdir(folderTarget)\n",
    "\n",
    "for filename in targetList:\n",
    "    try:\n",
    "        #print(filename)\n",
    "        if os.path.isfile(os.path.join(folderTarget, filename)):\n",
    "            filepath = os.path.join(folderTarget, filename)\n",
    "            filepath2 = os.path.join(folderSource, filename)\n",
    "            #print(filepath)\n",
    "            shutil.copy(filepath, filepath2) #copia o arquivo para a pasta source\n",
    "    except Exception as e:\n",
    "        print('Falha ao copiar %s. \\nRazão da falha: %s' % (filepath, e))\n",
    "        \n",
    "sourceList = os.listdir(folderSource)\n",
    "targetList = os.listdir(folderTarget)\n",
    "\n",
    "print('\\nArquivos na origem após cópia: ', sep = \"\")\n",
    "print(sourceList)\n",
    "print('\\nArquivos no destino após cópia: ', sep = \"\")\n",
    "print(targetList)"
   ]
  },
  {
   "cell_type": "markdown",
   "metadata": {},
   "source": [
    "### Renomeando arquivo"
   ]
  },
  {
   "cell_type": "code",
   "execution_count": 61,
   "metadata": {},
   "outputs": [
    {
     "name": "stdout",
     "output_type": "stream",
     "text": [
      "\n",
      "Lista de arquivos: \n",
      "['arquivoTexto.txt', 'arquivoTextoAppend1.txt', 'arquivoTextoAppend2.txt', 'arquivoTextoCreate1.txt', 'arquivoTextoCreate2.txt', 'arquivoTextoRead.txt', 'arquivoTextoWrite1.txt', 'arquivoTextoWrite2.txt']\n",
      "\n",
      "Lista de arquivos após renomear: \n",
      "['arquivoTextoAppend1.txt', 'arquivoTextoAppend2.txt', 'arquivoTextoCreate1.txt', 'arquivoTextoCreate2.txt', 'arquivoTextoRead.txt', 'arquivoTextoRenomeado', 'arquivoTextoWrite1.txt', 'arquivoTextoWrite2.txt']\n"
     ]
    }
   ],
   "source": [
    "#folderTarget = 'C:\\\\Users\\\\luciano\\\\IGTI\\\\target'\n",
    "\n",
    "filenameSource = 'arquivoTexto.txt'\n",
    "filenameTarget = 'arquivoTextoRenomeado.txt'\n",
    "\n",
    "old_file = os.path.join(folderTarget, filenameSource)\n",
    "new_file = os.path.join(folderTarget, filenameTarget)\n",
    "\n",
    "filelist = os.listdir(folderTarget)\n",
    "print('\\nLista de arquivos: ', sep = \"\")\n",
    "print(filelist)\n",
    "\n",
    "os.rename(old_file, new_file)\n",
    "#os.link(filenameTarget)\n",
    "\n",
    "filelist = os.listdir(folderTarget)\n",
    "print('\\nLista de arquivos após renomear: ', sep = \"\")\n",
    "print(filelist)"
   ]
  }
 ],
 "metadata": {
  "kernelspec": {
   "display_name": "Python 3",
   "language": "python",
   "name": "python3"
  },
  "language_info": {
   "codemirror_mode": {
    "name": "ipython",
    "version": 3
   },
   "file_extension": ".py",
   "mimetype": "text/x-python",
   "name": "python",
   "nbconvert_exporter": "python",
   "pygments_lexer": "ipython3",
   "version": "3.7.6"
  }
 },
 "nbformat": 4,
 "nbformat_minor": 4
}
