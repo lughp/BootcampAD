{
 "cells": [
  {
   "cell_type": "code",
   "execution_count": 1,
   "metadata": {},
   "outputs": [
    {
     "name": "stdout",
     "output_type": "stream",
     "text": [
      "Olá mundo!\n"
     ]
    }
   ],
   "source": [
    "print(\"Olá mundo!\")"
   ]
  },
  {
   "cell_type": "code",
   "execution_count": 2,
   "metadata": {},
   "outputs": [
    {
     "name": "stdout",
     "output_type": "stream",
     "text": [
      "Alô Mundo Método\n"
     ]
    }
   ],
   "source": [
    "# Definição do método chamado hello()\n",
    "def hello():\n",
    "    \"\"\"Imprime na tela a mensagem \"Alô Mundo!\" e não retorna nada\"\"\"\n",
    "    print(\"Alô Mundo Método\")\n",
    "\n",
    "# Início do programa principal\n",
    "hello()"
   ]
  },
  {
   "cell_type": "code",
   "execution_count": 6,
   "metadata": {},
   "outputs": [],
   "source": [
    "# Importa biblioteca math\n",
    "import math\n",
    "\n",
    "# Definição do método chamado get_pi()\n",
    "def get_pi():\n",
    "    \"\"\"Recupera o valor de Pi\"\"\"\n",
    "    return math.pi\n",
    "\n",
    "#Definição do método chamado hello()\n",
    "def hello(msg):\n",
    "    mensagem = \"Alô Mundo, o valor de Pi é: \" + msg\n",
    "\n",
    "# Início do programa principal\n",
    "msg = str(get_pi())\n",
    "hello(msg)"
   ]
  },
  {
   "cell_type": "code",
   "execution_count": null,
   "metadata": {},
   "outputs": [],
   "source": []
  }
 ],
 "metadata": {
  "kernelspec": {
   "display_name": "Python 3",
   "language": "python",
   "name": "python3"
  },
  "language_info": {
   "codemirror_mode": {
    "name": "ipython",
    "version": 3
   },
   "file_extension": ".py",
   "mimetype": "text/x-python",
   "name": "python",
   "nbconvert_exporter": "python",
   "pygments_lexer": "ipython3",
   "version": "3.7.6"
  }
 },
 "nbformat": 4,
 "nbformat_minor": 4
}
